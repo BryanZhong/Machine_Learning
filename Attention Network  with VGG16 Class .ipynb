{
 "cells": [
  {
   "cell_type": "code",
   "execution_count": 4,
   "id": "d10b00c2",
   "metadata": {},
   "outputs": [],
   "source": [
    "import os\n",
    "import numpy as np\n",
    "from tensorflow.keras.models import Model\n",
    "import tensorflow as tf\n",
    "from tensorflow.keras.layers import Input, Conv2D, BatchNormalization, Activation, Concatenate, Flatten, Dropout\n",
    "from tensorflow.keras.layers import GlobalAveragePooling2D, Dense, MaxPooling2D\n",
    "from tensorflow.keras.preprocessing.image import ImageDataGenerator\n",
    "from tensorflow.keras.applications import VGG16\n",
    "import matplotlib.pyplot as plt"
   ]
  },
  {
   "cell_type": "code",
   "execution_count": 5,
   "id": "477a8258",
   "metadata": {},
   "outputs": [],
   "source": [
    "input_shape = (224, 224, 3)\n",
    "dataset_dir= r\"C:\\Users\\m1355\\Documents\\WeChat Files\\wxid_z0qpzwe8erfg22\\FileStorage\\File\\2023-06\\crc_skin_data\\crc_skin_data\"\n",
    "batch_size = 4\n",
    "num_classes =1"
   ]
  },
  {
   "cell_type": "code",
   "execution_count": 6,
   "id": "6e4cf9fb",
   "metadata": {},
   "outputs": [
    {
     "name": "stdout",
     "output_type": "stream",
     "text": [
      "Found 400 images belonging to 2 classes.\n",
      "Found 100 images belonging to 2 classes.\n",
      "Found 100 images belonging to 2 classes.\n"
     ]
    }
   ],
   "source": [
    "# Data Augmentation\n",
    "train_datagen = ImageDataGenerator(\n",
    "    rescale=1./255,\n",
    "    shear_range=0.2,\n",
    "    zoom_range=0.2,\n",
    "    horizontal_flip=True,\n",
    "    validation_split=0.2)  # 20% of the data will be used for validation\n",
    "\n",
    "test_datagen = ImageDataGenerator(rescale=1./255)\n",
    "\n",
    "train_generator = train_datagen.flow_from_directory(\n",
    "    os.path.join(dataset_dir, 'train'),\n",
    "    target_size=input_shape[:2],\n",
    "    batch_size=batch_size,\n",
    "    class_mode='binary',\n",
    "    subset='training')  # Use the training subset of the data\n",
    "\n",
    "validation_generator = train_datagen.flow_from_directory(\n",
    "    os.path.join(dataset_dir, 'train'),\n",
    "    target_size=input_shape[:2],\n",
    "    batch_size=batch_size,\n",
    "    class_mode='binary',\n",
    "    subset='validation')  # Use the validation subset of the data\n",
    "\n",
    "test_generator = test_datagen.flow_from_directory(\n",
    "    os.path.join(dataset_dir, 'test'),\n",
    "    target_size=input_shape[:2],\n",
    "    batch_size=batch_size,\n",
    "    class_mode='binary')\n",
    "\n",
    "# Rest of the code remains the same...\n"
   ]
  },
  {
   "cell_type": "code",
   "execution_count": 7,
   "id": "d26b55a6",
   "metadata": {},
   "outputs": [],
   "source": [
    "class Attention(tf.keras.layers.Layer):\n",
    "    def __init__(self, channels):\n",
    "        super(Attention, self).__init__()\n",
    "        self.channels=channels\n",
    "        self.conv1= Conv2D(self.channels, kernel_size=1, strides=1, padding='valid')\n",
    "        self.conv2= Conv2D(self.channels, kernel_size=1, strides=1, padding='valid')\n",
    "        \n",
    "    def call(self, inputs):\n",
    "        x = self.conv1(inputs)\n",
    "        x = tf.nn.relu(x)\n",
    "        x = self.conv2(x)\n",
    "        x = tf.nn.softmax(x, axis=-1) # height x width x Channel (224x224x3)\n",
    "        return x\n",
    "    "
   ]
  },
  {
   "cell_type": "code",
   "execution_count": 8,
   "id": "33022ee1",
   "metadata": {},
   "outputs": [],
   "source": [
    "# Define the Attention model\n",
    "def attention_model(input_shape, num_classes):\n",
    "    \n",
    "    base_model=VGG16(weights='imagenet', include_top=False, input_shape=input_shape)\n",
    "    base_model.trainable=False\n",
    "    \n",
    "    inputs = Input(shape=input_shape)\n",
    "    \n",
    "    # Connect VGG16 to the input tensor\n",
    "    \n",
    "    vgg_output=  base_model(inputs)\n",
    "\n",
    "    \n",
    "    # Attention layer\n",
    "    attention = Attention(channels=512)(vgg_output)\n",
    "    \n",
    "    # Apply attention to the feature map\n",
    "    attention_maps = tf.multiply(vgg_output, attention)\n",
    "    concatenate_maps = Concatenate()([vgg_output, attention_maps])\n",
    "    \n",
    "    flatten = Flatten()( concatenate_maps)\n",
    "    \n",
    "    # Fully connected layers\n",
    "    fc1 = Dense(4096, activation='relu')(flatten)\n",
    "    dropout1 = Dropout(0.5)(fc1)\n",
    "    fc2 = Dense(4096, activation='relu')(dropout1)\n",
    "    dropout2 = Dropout(0.5)(fc2)\n",
    "    output = Dense(num_classes, activation='softmax')(dropout2)\n",
    "    \n",
    "    model = Model(inputs=inputs, outputs=output)\n",
    "    \n",
    "    return model\n",
    "    "
   ]
  },
  {
   "cell_type": "code",
   "execution_count": 9,
   "id": "3c2cf83b",
   "metadata": {},
   "outputs": [],
   "source": [
    "# Create Attention model\n",
    "\n",
    "\n",
    "model = attention_model(input_shape, num_classes)"
   ]
  },
  {
   "cell_type": "code",
   "execution_count": 10,
   "id": "8aa46f2a",
   "metadata": {},
   "outputs": [],
   "source": [
    "\n",
    "\n",
    "# Compile the model\n",
    "model.compile(loss='binary_crossentropy', optimizer='adam', metrics=['accuracy'])"
   ]
  },
  {
   "cell_type": "code",
   "execution_count": 11,
   "id": "116d9f61",
   "metadata": {},
   "outputs": [
    {
     "name": "stdout",
     "output_type": "stream",
     "text": [
      "Model: \"model\"\n",
      "__________________________________________________________________________________________________\n",
      " Layer (type)                   Output Shape         Param #     Connected to                     \n",
      "==================================================================================================\n",
      " input_2 (InputLayer)           [(None, 224, 224, 3  0           []                               \n",
      "                                )]                                                                \n",
      "                                                                                                  \n",
      " vgg16 (Functional)             (None, 7, 7, 512)    14714688    ['input_2[0][0]']                \n",
      "                                                                                                  \n",
      " attention (Attention)          (None, 7, 7, 512)    525312      ['vgg16[0][0]']                  \n",
      "                                                                                                  \n",
      " tf.math.multiply (TFOpLambda)  (None, 7, 7, 512)    0           ['vgg16[0][0]',                  \n",
      "                                                                  'attention[0][0]']              \n",
      "                                                                                                  \n",
      " concatenate (Concatenate)      (None, 7, 7, 1024)   0           ['vgg16[0][0]',                  \n",
      "                                                                  'tf.math.multiply[0][0]']       \n",
      "                                                                                                  \n",
      " flatten (Flatten)              (None, 50176)        0           ['concatenate[0][0]']            \n",
      "                                                                                                  \n",
      " dense (Dense)                  (None, 4096)         205524992   ['flatten[0][0]']                \n",
      "                                                                                                  \n",
      " dropout (Dropout)              (None, 4096)         0           ['dense[0][0]']                  \n",
      "                                                                                                  \n",
      " dense_1 (Dense)                (None, 4096)         16781312    ['dropout[0][0]']                \n",
      "                                                                                                  \n",
      " dropout_1 (Dropout)            (None, 4096)         0           ['dense_1[0][0]']                \n",
      "                                                                                                  \n",
      " dense_2 (Dense)                (None, 1)            4097        ['dropout_1[0][0]']              \n",
      "                                                                                                  \n",
      "==================================================================================================\n",
      "Total params: 237,550,401\n",
      "Trainable params: 222,835,713\n",
      "Non-trainable params: 14,714,688\n",
      "__________________________________________________________________________________________________\n"
     ]
    }
   ],
   "source": [
    "model.summary()"
   ]
  },
  {
   "cell_type": "code",
   "execution_count": 12,
   "id": "bce0cc4a",
   "metadata": {},
   "outputs": [
    {
     "name": "stdout",
     "output_type": "stream",
     "text": [
      "Epoch 1/2\n",
      "100/100 [==============================] - 24s 150ms/step - loss: 7.8607 - accuracy: 0.5000 - val_loss: 1.9750 - val_accuracy: 0.5000\n",
      "Epoch 2/2\n",
      "100/100 [==============================] - 16s 155ms/step - loss: 2.8140 - accuracy: 0.5000 - val_loss: 1.7317 - val_accuracy: 0.5000\n"
     ]
    }
   ],
   "source": [
    "# Train the model\n",
    "history=model.fit(train_generator,epochs=2,validation_data=validation_generator,verbose=1)"
   ]
  },
  {
   "cell_type": "code",
   "execution_count": 13,
   "id": "73500cc4",
   "metadata": {},
   "outputs": [
    {
     "data": {
      "image/png": "[encoded data removed]",
      "text/plain": [
       "<Figure size 1000x500 with 1 Axes>"
      ]
     },
     "metadata": {},
     "output_type": "display_data"
    },
    {
     "data": {
      "image/png": "[encoded data removed]",
      "text/plain": [
       "<Figure size 1000x500 with 1 Axes>"
      ]
     },
     "metadata": {},
     "output_type": "display_data"
    }
   ],
   "source": [
    "plt.figure(figsize=(10,5))\n",
    "plt.plot(history.history['accuracy'])\n",
    "plt.plot(history.history['val_accuracy'])\n",
    "plt.title('Model Accuracy')\n",
    "plt.ylabel('Accuracy')\n",
    "plt.xlabel('Epoch')\n",
    "plt.legend(['Training', 'Validation'], loc='lower right')\n",
    "plt.show()\n",
    "\n",
    "\n",
    "plt.figure(figsize=(10,5))\n",
    "plt.plot(history.history['loss'])\n",
    "plt.plot(history.history['val_loss'])\n",
    "plt.title('Model Loss')\n",
    "plt.ylabel('Loss')\n",
    "plt.xlabel('Epoch')\n",
    "plt.legend(['Training', 'Validation'], loc='upper right')\n",
    "plt.show()"
   ]
  },
  {
   "cell_type": "code",
   "execution_count": 14,
   "id": "ae6a509a",
   "metadata": {},
   "outputs": [
    {
     "name": "stdout",
     "output_type": "stream",
     "text": [
      "25/25 [==============================] - 1s 34ms/step - loss: 0.7882 - accuracy: 0.5000\n",
      "Test loss: 0.7881559133529663\n",
      "Test accuracy: 0.5\n"
     ]
    }
   ],
   "source": [
    "# Evaluate the model on the testing dataset\n",
    "test_loss, test_acc = model.evaluate(test_generator)\n",
    "print('Test loss:', test_loss)\n",
    "print('Test accuracy:', test_acc)"
   ]
  },
  {
   "cell_type": "code",
   "execution_count": 15,
   "id": "6c7d2a8f",
   "metadata": {},
   "outputs": [],
   "source": [
    "from keras import backend as K\n",
    "import gc\n",
    "\n",
    "K.clear_session()\n",
    "gc.collect()\n",
    "\n",
    "del model"
   ]
  },
  {
   "cell_type": "code",
   "execution_count": 16,
   "id": "921d06ac",
   "metadata": {},
   "outputs": [],
   "source": [
    "# you will need to install numba using \"pip install numba\"\n",
    "from numba import cuda\n",
    "\n",
    "cuda.select_device(0)\n",
    "cuda.close()"
   ]
  }
 ],
 "metadata": {
  "kernelspec": {
   "display_name": "Python [conda env:CRC]",
   "language": "python",
   "name": "conda-env-CRC-py"
  },
  "language_info": {
   "codemirror_mode": {
    "name": "ipython",
    "version": 3
   },
   "file_extension": ".py",
   "mimetype": "text/x-python",
   "name": "python",
   "nbconvert_exporter": "python",
   "pygments_lexer": "ipython3",
   "version": "3.10.11"
  }
 },
 "nbformat": 4,
 "nbformat_minor": 5
}
